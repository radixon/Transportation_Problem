{
 "cells": [
  {
   "cell_type": "code",
   "execution_count": 1,
   "id": "009641d6-4327-49c7-8873-c3424669ca4b",
   "metadata": {},
   "outputs": [
    {
     "name": "stdout",
     "output_type": "stream",
     "text": [
      "[[173 121 249 366 166 187 179 259  31  55 100 126 124  10  69]\n",
      " [271 169 299 416 263 285 136 213  98 131  26 134 222 107 166]\n",
      " [126 247 108 221  98 174 394 253 278 207 339 270 199 240 210]\n",
      " [166 256 346 463 270 121 310 380 171 175 231 257  77 132 101]]\n"
     ]
    }
   ],
   "source": [
    "import numpy as np\n",
    "from mip import *\n",
    "S = np.array([200000,100000,50000,50000])\n",
    "D = np.array([2000,20000,49000,18000,16000,6000,4000,7000,4000,4000,6000,3000,2000,3000,1000])\n",
    "C = np.array([173,121,249,366,166,187,179,259,31,55,100,126,124,10,69,\n",
    "                271,169,299,416,263,285,136,213,98,131,26,134,222,107,166,\n",
    "                126,247,108,221,98,174,394,253,278,207,339,270,199,240,210,\n",
    "                166,256,346,463,270,121,310,380,171,175,231,257,77,132,101]).reshape(4,15)\n",
    "print(C)"
   ]
  },
  {
   "cell_type": "code",
   "execution_count": 2,
   "id": "fa0d530d-9956-4cb0-9184-61ac936165d4",
   "metadata": {},
   "outputs": [
    {
     "name": "stdout",
     "output_type": "stream",
     "text": [
      "[[    0. 20000. 17000.     0. 16000.     0.     0.     0.  4000.  4000.\n",
      "      0.  3000.     0.  3000.  1000.]\n",
      " [    0.     0.     0.     0.     0.     0.  4000.  7000.     0.     0.\n",
      "   6000.     0.     0.     0.     0.]\n",
      " [    0.     0. 32000. 18000.     0.     0.     0.     0.     0.     0.\n",
      "      0.     0.     0.     0.     0.]\n",
      " [ 2000.     0.     0.     0.     0.  6000.     0.     0.     0.     0.\n",
      "      0.     0.  2000.     0.     0.]]\n"
     ]
    }
   ],
   "source": [
    "I = S.shape[0]\n",
    "J = D.shape[0]\n",
    "Prob = Model(sense=MINIMIZE,solver_name=CBC)\n",
    "x = [[Prob.add_var() for j in range(J)] for i in range(I)]\n",
    "\n",
    "for j in range(J):\n",
    "    Prob += xsum(x[i][j] for i in range(I)) >= D[j]\n",
    "for i in range(I):\n",
    "    Prob += xsum(x[i][j] for j in range(J)) <= S[i]\n",
    "    \n",
    "Prob.objective = xsum(C[i][j]*x[i][j] for i in range(I) for j in range(J))\n",
    "Prob.max_gap = 0.001\n",
    "Prob.optimize()\n",
    "X = np.zeros([I,J])\n",
    "for i in range(I):\n",
    "    for j in range(J):\n",
    "        X[i,j] = x[i][j].x\n",
    "print(X)"
   ]
  },
  {
   "cell_type": "code",
   "execution_count": null,
   "id": "a2d4d59e-9654-4cff-a61d-e4849a3de13a",
   "metadata": {},
   "outputs": [],
   "source": []
  }
 ],
 "metadata": {
  "kernelspec": {
   "display_name": "Python 3 (ipykernel)",
   "language": "python",
   "name": "python3"
  },
  "language_info": {
   "codemirror_mode": {
    "name": "ipython",
    "version": 3
   },
   "file_extension": ".py",
   "mimetype": "text/x-python",
   "name": "python",
   "nbconvert_exporter": "python",
   "pygments_lexer": "ipython3",
   "version": "3.9.12"
  }
 },
 "nbformat": 4,
 "nbformat_minor": 5
}
